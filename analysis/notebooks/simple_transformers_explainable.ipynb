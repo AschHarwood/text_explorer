{
 "cells": [
  {
   "cell_type": "code",
   "execution_count": 1,
   "id": "collaborative-burst",
   "metadata": {},
   "outputs": [
    {
     "name": "stderr",
     "output_type": "stream",
     "text": [
      "<ipython-input-1-7773746b0030>:19: SettingWithCopyWarning: \n",
      "A value is trying to be set on a copy of a slice from a DataFrame.\n",
      "Try using .loc[row_indexer,col_indexer] = value instead\n",
      "\n",
      "See the caveats in the documentation: https://pandas.pydata.org/pandas-docs/stable/user_guide/indexing.html#returning-a-view-versus-a-copy\n",
      "  text_label['label'] = text_label['audience_combined_bias'].apply(lambda x: replace_str(x))\n"
     ]
    }
   ],
   "source": [
    "import pandas as pd\n",
    "\n",
    "pd.set_option('display.max_columns', 500)\n",
    "\n",
    "df = pd.read_csv('~/data/domain_stop_removed_bias_text.csv')\n",
    "\n",
    "df.head()\n",
    "\n",
    "text_label = df[['text_stop_removed', 'audience_combined_bias']]\n",
    "\n",
    "def replace_str(x):\n",
    "    if x == 'left':\n",
    "        return 0\n",
    "    elif x == 'center':\n",
    "        return 1\n",
    "    else:\n",
    "        return 2\n",
    "\n",
    "text_label['label'] = text_label['audience_combined_bias'].apply(lambda x: replace_str(x))\n",
    "\n",
    "text_label = text_label[['text_stop_removed', 'label']]\n",
    "\n",
    "text_label.columns = ['text', 'label']\n",
    "\n",
    "text_label['text'] = text_label['text'].astype('string')"
   ]
  },
  {
   "cell_type": "code",
   "execution_count": 2,
   "id": "colonial-allowance",
   "metadata": {},
   "outputs": [],
   "source": [
    "from sklearn.model_selection import train_test_split"
   ]
  },
  {
   "cell_type": "code",
   "execution_count": 5,
   "id": "cooked-plant",
   "metadata": {},
   "outputs": [
    {
     "data": {
      "text/html": [
       "<div>\n",
       "<style scoped>\n",
       "    .dataframe tbody tr th:only-of-type {\n",
       "        vertical-align: middle;\n",
       "    }\n",
       "\n",
       "    .dataframe tbody tr th {\n",
       "        vertical-align: top;\n",
       "    }\n",
       "\n",
       "    .dataframe thead th {\n",
       "        text-align: right;\n",
       "    }\n",
       "</style>\n",
       "<table border=\"1\" class=\"dataframe\">\n",
       "  <thead>\n",
       "    <tr style=\"text-align: right;\">\n",
       "      <th></th>\n",
       "      <th>text</th>\n",
       "      <th>label</th>\n",
       "    </tr>\n",
       "  </thead>\n",
       "  <tbody>\n",
       "    <tr>\n",
       "      <th>0</th>\n",
       "      <td>story update department health human service h...</td>\n",
       "      <td>0</td>\n",
       "    </tr>\n",
       "    <tr>\n",
       "      <th>1</th>\n",
       "      <td>story produce originally publish grist reprodu...</td>\n",
       "      <td>0</td>\n",
       "    </tr>\n",
       "    <tr>\n",
       "      <th>2</th>\n",
       "      <td>cúcuta colombia close military intervention ve...</td>\n",
       "      <td>0</td>\n",
       "    </tr>\n",
       "    <tr>\n",
       "      <th>3</th>\n",
       "      <td>glisten tiara royal purple line sash burroughs...</td>\n",
       "      <td>0</td>\n",
       "    </tr>\n",
       "    <tr>\n",
       "      <th>4</th>\n",
       "      <td>washington reuters democrat house representati...</td>\n",
       "      <td>1</td>\n",
       "    </tr>\n",
       "    <tr>\n",
       "      <th>...</th>\n",
       "      <td>...</td>\n",
       "      <td>...</td>\n",
       "    </tr>\n",
       "    <tr>\n",
       "      <th>148678</th>\n",
       "      <td>adam jaren angel john sebastian star anthony b...</td>\n",
       "      <td>0</td>\n",
       "    </tr>\n",
       "    <tr>\n",
       "      <th>148679</th>\n",
       "      <td>washington reuters america policy political ac...</td>\n",
       "      <td>1</td>\n",
       "    </tr>\n",
       "    <tr>\n",
       "      <th>148680</th>\n",
       "      <td>tuesday broadcast msnbc beat filmmaker michael...</td>\n",
       "      <td>2</td>\n",
       "    </tr>\n",
       "    <tr>\n",
       "      <th>148681</th>\n",
       "      <td>50 female ambassador administration protect yo...</td>\n",
       "      <td>0</td>\n",
       "    </tr>\n",
       "    <tr>\n",
       "      <th>148682</th>\n",
       "      <td>qualtrics founder jared smith purchase waterfr...</td>\n",
       "      <td>0</td>\n",
       "    </tr>\n",
       "  </tbody>\n",
       "</table>\n",
       "<p>148683 rows × 2 columns</p>\n",
       "</div>"
      ],
      "text/plain": [
       "                                                     text  label\n",
       "0       story update department health human service h...      0\n",
       "1       story produce originally publish grist reprodu...      0\n",
       "2       cúcuta colombia close military intervention ve...      0\n",
       "3       glisten tiara royal purple line sash burroughs...      0\n",
       "4       washington reuters democrat house representati...      1\n",
       "...                                                   ...    ...\n",
       "148678  adam jaren angel john sebastian star anthony b...      0\n",
       "148679  washington reuters america policy political ac...      1\n",
       "148680  tuesday broadcast msnbc beat filmmaker michael...      2\n",
       "148681  50 female ambassador administration protect yo...      0\n",
       "148682  qualtrics founder jared smith purchase waterfr...      0\n",
       "\n",
       "[148683 rows x 2 columns]"
      ]
     },
     "execution_count": 5,
     "metadata": {},
     "output_type": "execute_result"
    }
   ],
   "source": [
    "text_label"
   ]
  },
  {
   "cell_type": "code",
   "execution_count": 7,
   "id": "threatened-thing",
   "metadata": {},
   "outputs": [],
   "source": [
    "x = text_label['text']\n",
    "y = text_label['label']"
   ]
  },
  {
   "cell_type": "code",
   "execution_count": 8,
   "id": "particular-impossible",
   "metadata": {},
   "outputs": [],
   "source": [
    "train_x, test_x, train_y, test_y = train_test_split(x, y, test_size=.2, stratify=y)"
   ]
  },
  {
   "cell_type": "code",
   "execution_count": 11,
   "id": "periodic-asthma",
   "metadata": {},
   "outputs": [],
   "source": [
    "train_df = pd.concat([train_x, train_y], axis=1)"
   ]
  },
  {
   "cell_type": "code",
   "execution_count": 13,
   "id": "considered-conviction",
   "metadata": {},
   "outputs": [],
   "source": [
    "train_sample = train_df.groupby('label').sample(10000)"
   ]
  },
  {
   "cell_type": "code",
   "execution_count": 15,
   "id": "configured-family",
   "metadata": {},
   "outputs": [
    {
     "data": {
      "text/plain": [
       "0    10000\n",
       "1    10000\n",
       "2    10000\n",
       "Name: label, dtype: int64"
      ]
     },
     "execution_count": 15,
     "metadata": {},
     "output_type": "execute_result"
    }
   ],
   "source": [
    "train_sample['label'].value_counts()"
   ]
  },
  {
   "cell_type": "code",
   "execution_count": 19,
   "id": "enabling-sheet",
   "metadata": {},
   "outputs": [
    {
     "data": {
      "text/html": [
       "<div>\n",
       "<style scoped>\n",
       "    .dataframe tbody tr th:only-of-type {\n",
       "        vertical-align: middle;\n",
       "    }\n",
       "\n",
       "    .dataframe tbody tr th {\n",
       "        vertical-align: top;\n",
       "    }\n",
       "\n",
       "    .dataframe thead th {\n",
       "        text-align: right;\n",
       "    }\n",
       "</style>\n",
       "<table border=\"1\" class=\"dataframe\">\n",
       "  <thead>\n",
       "    <tr style=\"text-align: right;\">\n",
       "      <th></th>\n",
       "      <th>text</th>\n",
       "      <th>label</th>\n",
       "    </tr>\n",
       "  </thead>\n",
       "  <tbody>\n",
       "    <tr>\n",
       "      <th>11812</th>\n",
       "      <td>washington house republican wednesday quietly ...</td>\n",
       "      <td>0</td>\n",
       "    </tr>\n",
       "    <tr>\n",
       "      <th>146684</th>\n",
       "      <td>core hugh edmeades salesman albeit dynamic ent...</td>\n",
       "      <td>0</td>\n",
       "    </tr>\n",
       "    <tr>\n",
       "      <th>89753</th>\n",
       "      <td>people injure explosion south florida strip ma...</td>\n",
       "      <td>0</td>\n",
       "    </tr>\n",
       "    <tr>\n",
       "      <th>95864</th>\n",
       "      <td>50-ton canister fill nuclear waste wedge insid...</td>\n",
       "      <td>0</td>\n",
       "    </tr>\n",
       "    <tr>\n",
       "      <th>58461</th>\n",
       "      <td>town hall sunday mayor pete buttigieg confront...</td>\n",
       "      <td>0</td>\n",
       "    </tr>\n",
       "    <tr>\n",
       "      <th>...</th>\n",
       "      <td>...</td>\n",
       "      <td>...</td>\n",
       "    </tr>\n",
       "    <tr>\n",
       "      <th>93363</th>\n",
       "      <td>rep alexandria ocasio cortez ny friday deny pl...</td>\n",
       "      <td>2</td>\n",
       "    </tr>\n",
       "    <tr>\n",
       "      <th>43140</th>\n",
       "      <td>guilty great president democrat president dona...</td>\n",
       "      <td>2</td>\n",
       "    </tr>\n",
       "    <tr>\n",
       "      <th>54856</th>\n",
       "      <td>feel heart race leg stay seat end butterfly st...</td>\n",
       "      <td>2</td>\n",
       "    </tr>\n",
       "    <tr>\n",
       "      <th>121515</th>\n",
       "      <td>sen bernie sander vt shoot sen kamala harris s...</td>\n",
       "      <td>2</td>\n",
       "    </tr>\n",
       "    <tr>\n",
       "      <th>93359</th>\n",
       "      <td>sen john kennedy mueller report dead fry chick...</td>\n",
       "      <td>2</td>\n",
       "    </tr>\n",
       "  </tbody>\n",
       "</table>\n",
       "<p>30000 rows × 2 columns</p>\n",
       "</div>"
      ],
      "text/plain": [
       "                                                     text  label\n",
       "11812   washington house republican wednesday quietly ...      0\n",
       "146684  core hugh edmeades salesman albeit dynamic ent...      0\n",
       "89753   people injure explosion south florida strip ma...      0\n",
       "95864   50-ton canister fill nuclear waste wedge insid...      0\n",
       "58461   town hall sunday mayor pete buttigieg confront...      0\n",
       "...                                                   ...    ...\n",
       "93363   rep alexandria ocasio cortez ny friday deny pl...      2\n",
       "43140   guilty great president democrat president dona...      2\n",
       "54856   feel heart race leg stay seat end butterfly st...      2\n",
       "121515  sen bernie sander vt shoot sen kamala harris s...      2\n",
       "93359   sen john kennedy mueller report dead fry chick...      2\n",
       "\n",
       "[30000 rows x 2 columns]"
      ]
     },
     "execution_count": 19,
     "metadata": {},
     "output_type": "execute_result"
    }
   ],
   "source": [
    "train_sample"
   ]
  },
  {
   "cell_type": "code",
   "execution_count": 22,
   "id": "infectious-growth",
   "metadata": {},
   "outputs": [
    {
     "name": "stderr",
     "output_type": "stream",
     "text": [
      "Some weights of the model checkpoint at roberta-base were not used when initializing RobertaForSequenceClassification: ['lm_head.bias', 'lm_head.dense.weight', 'lm_head.dense.bias', 'lm_head.layer_norm.weight', 'lm_head.layer_norm.bias', 'lm_head.decoder.weight']\n",
      "- This IS expected if you are initializing RobertaForSequenceClassification from the checkpoint of a model trained on another task or with another architecture (e.g. initializing a BertForSequenceClassification model from a BertForPreTraining model).\n",
      "- This IS NOT expected if you are initializing RobertaForSequenceClassification from the checkpoint of a model that you expect to be exactly identical (initializing a BertForSequenceClassification model from a BertForSequenceClassification model).\n",
      "Some weights of RobertaForSequenceClassification were not initialized from the model checkpoint at roberta-base and are newly initialized: ['classifier.dense.weight', 'classifier.dense.bias', 'classifier.out_proj.weight', 'classifier.out_proj.bias']\n",
      "You should probably TRAIN this model on a down-stream task to be able to use it for predictions and inference.\n"
     ]
    }
   ],
   "source": [
    "from simpletransformers.classification import ClassificationModel\n",
    "\n",
    "\n",
    "# Create a ClassificationModel\n",
    "model = ClassificationModel('roberta', 'roberta-base', num_labels=3)"
   ]
  },
  {
   "cell_type": "code",
   "execution_count": null,
   "id": "continental-romance",
   "metadata": {},
   "outputs": [],
   "source": []
  },
  {
   "cell_type": "code",
   "execution_count": 23,
   "id": "worse-selection",
   "metadata": {},
   "outputs": [
    {
     "data": {
      "application/vnd.jupyter.widget-view+json": {
       "model_id": "e886648d78fb4fe4be3bc352a8ee3b5e",
       "version_major": 2,
       "version_minor": 0
      },
      "text/plain": [
       "  0%|          | 0/12 [00:00<?, ?it/s]"
      ]
     },
     "metadata": {},
     "output_type": "display_data"
    },
    {
     "data": {
      "application/vnd.jupyter.widget-view+json": {
       "model_id": "86025e80b19c454aa48597684ac8db93",
       "version_major": 2,
       "version_minor": 0
      },
      "text/plain": [
       "Epoch:   0%|          | 0/1 [00:00<?, ?it/s]"
      ]
     },
     "metadata": {},
     "output_type": "display_data"
    },
    {
     "data": {
      "application/vnd.jupyter.widget-view+json": {
       "model_id": "8105ba040e144962bd281357b5d759ad",
       "version_major": 2,
       "version_minor": 0
      },
      "text/plain": [
       "Running Epoch 0 of 1:   0%|          | 0/3750 [00:00<?, ?it/s]"
      ]
     },
     "metadata": {},
     "output_type": "display_data"
    },
    {
     "name": "stderr",
     "output_type": "stream",
     "text": [
      "/opt/conda/envs/st/lib/python3.9/site-packages/torch/optim/lr_scheduler.py:216: UserWarning: Please also save or load the state of the optimizer when saving or loading the scheduler.\n",
      "  warnings.warn(SAVE_STATE_WARNING, UserWarning)\n"
     ]
    },
    {
     "data": {
      "text/plain": [
       "(3750, 0.6594880789970359)"
      ]
     },
     "execution_count": 23,
     "metadata": {},
     "output_type": "execute_result"
    }
   ],
   "source": [
    "model.train_model(train_sample, output_dir=\"ouputs/\")"
   ]
  },
  {
   "cell_type": "code",
   "execution_count": 24,
   "id": "royal-responsibility",
   "metadata": {},
   "outputs": [],
   "source": [
    "test_df = pd.concat([test_x, test_y], axis=1)"
   ]
  },
  {
   "cell_type": "code",
   "execution_count": 25,
   "id": "finite-anatomy",
   "metadata": {},
   "outputs": [
    {
     "data": {
      "text/html": [
       "<div>\n",
       "<style scoped>\n",
       "    .dataframe tbody tr th:only-of-type {\n",
       "        vertical-align: middle;\n",
       "    }\n",
       "\n",
       "    .dataframe tbody tr th {\n",
       "        vertical-align: top;\n",
       "    }\n",
       "\n",
       "    .dataframe thead th {\n",
       "        text-align: right;\n",
       "    }\n",
       "</style>\n",
       "<table border=\"1\" class=\"dataframe\">\n",
       "  <thead>\n",
       "    <tr style=\"text-align: right;\">\n",
       "      <th></th>\n",
       "      <th>text</th>\n",
       "      <th>label</th>\n",
       "    </tr>\n",
       "  </thead>\n",
       "  <tbody>\n",
       "    <tr>\n",
       "      <th>12039</th>\n",
       "      <td>line hour woody grind presidential compound mo...</td>\n",
       "      <td>0</td>\n",
       "    </tr>\n",
       "    <tr>\n",
       "      <th>42961</th>\n",
       "      <td>describe kind real process engage recently hug...</td>\n",
       "      <td>0</td>\n",
       "    </tr>\n",
       "    <tr>\n",
       "      <th>93026</th>\n",
       "      <td>brawl break rise garden thursday president tru...</td>\n",
       "      <td>2</td>\n",
       "    </tr>\n",
       "    <tr>\n",
       "      <th>92253</th>\n",
       "      <td>seren steve sinisi livestock farm old crow ran...</td>\n",
       "      <td>0</td>\n",
       "    </tr>\n",
       "    <tr>\n",
       "      <th>10036</th>\n",
       "      <td>generational change guard social action decade...</td>\n",
       "      <td>0</td>\n",
       "    </tr>\n",
       "    <tr>\n",
       "      <th>...</th>\n",
       "      <td>...</td>\n",
       "      <td>...</td>\n",
       "    </tr>\n",
       "    <tr>\n",
       "      <th>121411</th>\n",
       "      <td>washington reuters senior state department war...</td>\n",
       "      <td>1</td>\n",
       "    </tr>\n",
       "    <tr>\n",
       "      <th>80254</th>\n",
       "      <td>andrew weissmann prosecutor s mueller iii russ...</td>\n",
       "      <td>0</td>\n",
       "    </tr>\n",
       "    <tr>\n",
       "      <th>106651</th>\n",
       "      <td>cnn dalton cottrell cheyenne hedrick iowa hone...</td>\n",
       "      <td>0</td>\n",
       "    </tr>\n",
       "    <tr>\n",
       "      <th>35242</th>\n",
       "      <td>supreme court reject gay death row inmate appe...</td>\n",
       "      <td>0</td>\n",
       "    </tr>\n",
       "    <tr>\n",
       "      <th>86094</th>\n",
       "      <td>osaka japan president trump nearly 7000 mile h...</td>\n",
       "      <td>0</td>\n",
       "    </tr>\n",
       "  </tbody>\n",
       "</table>\n",
       "<p>29737 rows × 2 columns</p>\n",
       "</div>"
      ],
      "text/plain": [
       "                                                     text  label\n",
       "12039   line hour woody grind presidential compound mo...      0\n",
       "42961   describe kind real process engage recently hug...      0\n",
       "93026   brawl break rise garden thursday president tru...      2\n",
       "92253   seren steve sinisi livestock farm old crow ran...      0\n",
       "10036   generational change guard social action decade...      0\n",
       "...                                                   ...    ...\n",
       "121411  washington reuters senior state department war...      1\n",
       "80254   andrew weissmann prosecutor s mueller iii russ...      0\n",
       "106651  cnn dalton cottrell cheyenne hedrick iowa hone...      0\n",
       "35242   supreme court reject gay death row inmate appe...      0\n",
       "86094   osaka japan president trump nearly 7000 mile h...      0\n",
       "\n",
       "[29737 rows x 2 columns]"
      ]
     },
     "execution_count": 25,
     "metadata": {},
     "output_type": "execute_result"
    }
   ],
   "source": [
    "test_df"
   ]
  },
  {
   "cell_type": "code",
   "execution_count": 29,
   "id": "handmade-gather",
   "metadata": {},
   "outputs": [],
   "source": [
    "\n",
    "from sklearn.metrics import f1_score, accuracy_score\n",
    "\n",
    "\n",
    "def f1_multiclass(labels, preds):\n",
    "    return f1_score(labels, preds, average='micro')"
   ]
  },
  {
   "cell_type": "code",
   "execution_count": 27,
   "id": "preliminary-accountability",
   "metadata": {},
   "outputs": [],
   "source": [
    "test_sample = test_df.groupby('label').sample(2000)"
   ]
  },
  {
   "cell_type": "code",
   "execution_count": 28,
   "id": "welsh-aviation",
   "metadata": {},
   "outputs": [
    {
     "data": {
      "text/plain": [
       "0    2000\n",
       "1    2000\n",
       "2    2000\n",
       "Name: label, dtype: int64"
      ]
     },
     "execution_count": 28,
     "metadata": {},
     "output_type": "execute_result"
    }
   ],
   "source": [
    "test_sample['label'].value_counts()"
   ]
  },
  {
   "cell_type": "code",
   "execution_count": 30,
   "id": "cardiac-marine",
   "metadata": {},
   "outputs": [
    {
     "name": "stderr",
     "output_type": "stream",
     "text": [
      "/opt/conda/envs/st/lib/python3.9/site-packages/simpletransformers/classification/classification_model.py:1025: UserWarning: Dataframe headers not specified. Falling back to using column 0 as text and column 1 as labels.\n",
      "  warnings.warn(\n"
     ]
    },
    {
     "data": {
      "application/vnd.jupyter.widget-view+json": {
       "model_id": "e6196086219e472d8cc6597af0d1bfb0",
       "version_major": 2,
       "version_minor": 0
      },
      "text/plain": [
       "Running Evaluation:   0%|          | 0/750 [00:00<?, ?it/s]"
      ]
     },
     "metadata": {},
     "output_type": "display_data"
    }
   ],
   "source": [
    "result, model_outputs, wrong_predictions = model.eval_model(test_sample, f1=f1_multiclass, acc=accuracy_score)"
   ]
  },
  {
   "cell_type": "code",
   "execution_count": 31,
   "id": "unsigned-peace",
   "metadata": {},
   "outputs": [
    {
     "data": {
      "text/plain": [
       "{'mcc': 0.7429227735545573,\n",
       " 'f1': 0.8281666666666667,\n",
       " 'acc': 0.8281666666666667,\n",
       " 'eval_loss': 0.4464303920306265}"
      ]
     },
     "execution_count": 31,
     "metadata": {},
     "output_type": "execute_result"
    }
   ],
   "source": [
    "result"
   ]
  },
  {
   "cell_type": "code",
   "execution_count": 32,
   "id": "registered-winner",
   "metadata": {},
   "outputs": [
    {
     "data": {
      "text/plain": [
       "<simpletransformers.classification.classification_model.ClassificationModel at 0x7f9ad2110df0>"
      ]
     },
     "execution_count": 32,
     "metadata": {},
     "output_type": "execute_result"
    }
   ],
   "source": [
    "model"
   ]
  },
  {
   "cell_type": "code",
   "execution_count": null,
   "id": "incredible-record",
   "metadata": {},
   "outputs": [],
   "source": []
  }
 ],
 "metadata": {
  "environment": {
   "name": "pytorch-gpu.1-7.m65",
   "type": "gcloud",
   "uri": "gcr.io/deeplearning-platform-release/pytorch-gpu.1-7:m65"
  },
  "kernelspec": {
   "display_name": "st",
   "language": "python",
   "name": "st"
  },
  "language_info": {
   "codemirror_mode": {
    "name": "ipython",
    "version": 3
   },
   "file_extension": ".py",
   "mimetype": "text/x-python",
   "name": "python",
   "nbconvert_exporter": "python",
   "pygments_lexer": "ipython3",
   "version": "3.9.2"
  }
 },
 "nbformat": 4,
 "nbformat_minor": 5
}
