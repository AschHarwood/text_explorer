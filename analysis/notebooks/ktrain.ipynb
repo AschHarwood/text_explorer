{
 "cells": [
  {
   "cell_type": "markdown",
   "id": "informational-diving",
   "metadata": {},
   "source": [
    "# Training for Applying Transformers and Explainable AI to Identify Partisan Keywords\n",
    "\n",
    "see https://colab.research.google.com/drive/1mOSWKcD7pKSFSdyq2FBWTrhZ06SLTnLC?usp=sharing"
   ]
  },
  {
   "cell_type": "code",
   "execution_count": null,
   "id": "round-rachel",
   "metadata": {},
   "outputs": [],
   "source": [
    "import numpy as np\n",
    "import ktrain\n",
    "from ktrain import text"
   ]
  },
  {
   "cell_type": "code",
   "execution_count": 1,
   "id": "royal-poster",
   "metadata": {},
   "outputs": [
    {
     "name": "stderr",
     "output_type": "stream",
     "text": [
      "<ipython-input-1-85d20dfd0e52>:19: SettingWithCopyWarning: \n",
      "A value is trying to be set on a copy of a slice from a DataFrame.\n",
      "Try using .loc[row_indexer,col_indexer] = value instead\n",
      "\n",
      "See the caveats in the documentation: https://pandas.pydata.org/pandas-docs/stable/user_guide/indexing.html#returning-a-view-versus-a-copy\n",
      "  text_label['label'] = text_label['audience_combined_bias'].apply(lambda x: replace_str(x))\n"
     ]
    }
   ],
   "source": [
    "import pandas as pd\n",
    "\n",
    "pd.set_option('display.max_columns', 500)\n",
    "\n",
    "df = pd.read_csv('~/data/domain_stop_removed_bias_text.csv')\n",
    "\n",
    "df.head()\n",
    "\n",
    "text_label = df[['text_stop_removed', 'audience_combined_bias']]\n",
    "\n",
    "def replace_str(x):\n",
    "    if x == 'left':\n",
    "        return 0\n",
    "    elif x == 'center':\n",
    "        return 1\n",
    "    else:\n",
    "        return 2\n",
    "\n",
    "text_label['label'] = text_label['audience_combined_bias'].apply(lambda x: replace_str(x))\n",
    "\n",
    "text_label = text_label[['text_stop_removed', 'audience_combined_bias']]\n",
    "\n",
    "text_label.columns = ['text', 'label']\n",
    "\n",
    "text_label['text'] = text_label['text'].astype('string')"
   ]
  },
  {
   "cell_type": "code",
   "execution_count": null,
   "id": "wanted-preference",
   "metadata": {},
   "outputs": [],
   "source": [
    "train_sample = text_label.groupby('label').sample(20000)"
   ]
  },
  {
   "cell_type": "code",
   "execution_count": 4,
   "id": "baking-reasoning",
   "metadata": {},
   "outputs": [],
   "source": [
    "from sklearn.model_selection import train_test_split"
   ]
  },
  {
   "cell_type": "code",
   "execution_count": null,
   "id": "religious-captain",
   "metadata": {},
   "outputs": [],
   "source": [
    "del df"
   ]
  },
  {
   "cell_type": "code",
   "execution_count": null,
   "id": "smart-symphony",
   "metadata": {},
   "outputs": [],
   "source": [
    "del text_label"
   ]
  },
  {
   "cell_type": "code",
   "execution_count": 5,
   "id": "grand-little",
   "metadata": {},
   "outputs": [],
   "source": [
    "#text_label = df[['text', 'label']]\n",
    "x = text_label['text']\n",
    "y = text_label['label']\n",
    "train_x, test_x, train_y, test_y = train_test_split(np.array(x), np.array(y), test_size=.2, stratify=y)"
   ]
  },
  {
   "cell_type": "code",
   "execution_count": null,
   "id": "pharmaceutical-vegetable",
   "metadata": {},
   "outputs": [],
   "source": [
    "# x = np.array(x)\n",
    "# y = np.array(y)\n",
    "# (train_x, train_y), (test_x, test_y), preproc  = text.texts_from_array(x_train=x, y_train=y, class_names=['left', 'center', 'right'], preprocess_mode='distilbert')"
   ]
  },
  {
   "cell_type": "code",
   "execution_count": 10,
   "id": "departmental-export",
   "metadata": {},
   "outputs": [],
   "source": [
    "MODEL_NAME = 'bert-base-uncased'"
   ]
  },
  {
   "cell_type": "code",
   "execution_count": 11,
   "id": "ordinary-peoples",
   "metadata": {},
   "outputs": [
    {
     "data": {
      "application/vnd.jupyter.widget-view+json": {
       "model_id": "9774a380673f458b9f67cadb939a1f29",
       "version_major": 2,
       "version_minor": 0
      },
      "text/plain": [
       "Downloading:   0%|          | 0.00/433 [00:00<?, ?B/s]"
      ]
     },
     "metadata": {},
     "output_type": "display_data"
    }
   ],
   "source": [
    "t = text.Transformer(MODEL_NAME, maxlen=250, classes=['left', 'center', 'right'])"
   ]
  },
  {
   "cell_type": "code",
   "execution_count": 12,
   "id": "fifth-rebound",
   "metadata": {},
   "outputs": [
    {
     "name": "stdout",
     "output_type": "stream",
     "text": [
      "preprocessing train...\n",
      "language: en\n",
      "train sequence lengths:\n",
      "\tmean : 313\n",
      "\t95percentile : 737\n",
      "\t99percentile : 1593\n"
     ]
    },
    {
     "name": "stderr",
     "output_type": "stream",
     "text": [
      "/opt/conda/envs/tranformer_tf_env/lib/python3.9/site-packages/ktrain/utils.py:589: UserWarning: class_names argument was ignored, as they were extracted from string labels in dataset\n",
      "  if self.get_classes(): warnings.warn('class_names argument was ignored, as they were extracted from string labels in dataset')\n"
     ]
    },
    {
     "data": {
      "text/html": [],
      "text/plain": [
       "<IPython.core.display.HTML object>"
      ]
     },
     "metadata": {},
     "output_type": "display_data"
    },
    {
     "name": "stdout",
     "output_type": "stream",
     "text": [
      "Is Multi-Label? False\n"
     ]
    }
   ],
   "source": [
    "train = t.preprocess_train(list(train_x), list(train_y))"
   ]
  },
  {
   "cell_type": "code",
   "execution_count": 13,
   "id": "handled-tracker",
   "metadata": {},
   "outputs": [
    {
     "name": "stdout",
     "output_type": "stream",
     "text": [
      "preprocessing test...\n",
      "language: en\n",
      "test sequence lengths:\n",
      "\tmean : 311\n",
      "\t95percentile : 722\n",
      "\t99percentile : 1521\n"
     ]
    },
    {
     "data": {
      "text/html": [],
      "text/plain": [
       "<IPython.core.display.HTML object>"
      ]
     },
     "metadata": {},
     "output_type": "display_data"
    }
   ],
   "source": [
    "test = t.preprocess_test(list(test_x), list(test_y))"
   ]
  },
  {
   "cell_type": "code",
   "execution_count": 17,
   "id": "canadian-phrase",
   "metadata": {},
   "outputs": [
    {
     "data": {
      "application/vnd.jupyter.widget-view+json": {
       "model_id": "80166ec2231a4950a716414d5dd13513",
       "version_major": 2,
       "version_minor": 0
      },
      "text/plain": [
       "Downloading:   0%|          | 0.00/536M [00:00<?, ?B/s]"
      ]
     },
     "metadata": {},
     "output_type": "display_data"
    }
   ],
   "source": [
    "model = t.get_classifier()"
   ]
  },
  {
   "cell_type": "code",
   "execution_count": 18,
   "id": "invisible-visiting",
   "metadata": {},
   "outputs": [],
   "source": [
    "learner = ktrain.get_learner(model, train_data=train, val_data=test, batch_size=6)"
   ]
  },
  {
   "cell_type": "code",
   "execution_count": 19,
   "id": "persistent-circulation",
   "metadata": {},
   "outputs": [
    {
     "name": "stdout",
     "output_type": "stream",
     "text": [
      "\n",
      "\n",
      "begin training using onecycle policy with max lr of 5e-05...\n",
      "Epoch 1/3\n",
      "19825/19825 [==============================] - 7866s 395ms/step - loss: 0.4677 - accuracy: 0.7940 - val_loss: 0.2442 - val_accuracy: 0.9034\n",
      "Epoch 2/3\n",
      "19825/19825 [==============================] - 7844s 395ms/step - loss: 0.2436 - accuracy: 0.9070 - val_loss: 0.2054 - val_accuracy: 0.9216\n",
      "Epoch 3/3\n",
      "16498/19825 [=======================>......] - ETA: 20:18 - loss: 0.1530 - accuracy: 0.9432"
     ]
    },
    {
     "name": "stderr",
     "output_type": "stream",
     "text": [
      "IOPub message rate exceeded.\n",
      "The notebook server will temporarily stop sending output\n",
      "to the client in order to avoid crashing it.\n",
      "To change this limit, set the config variable\n",
      "`--NotebookApp.iopub_msg_rate_limit`.\n",
      "\n",
      "Current values:\n",
      "NotebookApp.iopub_msg_rate_limit=1000.0 (msgs/sec)\n",
      "NotebookApp.rate_limit_window=3.0 (secs)\n",
      "\n"
     ]
    }
   ],
   "source": [
    "learner.fit_onecycle(5e-5, 3, verbose=1)"
   ]
  },
  {
   "cell_type": "code",
   "execution_count": 20,
   "id": "decreased-harvest",
   "metadata": {},
   "outputs": [],
   "source": [
    "learner.save_model('news_sources_ktrain_model_2')"
   ]
  },
  {
   "cell_type": "code",
   "execution_count": 21,
   "id": "discrete-signature",
   "metadata": {},
   "outputs": [],
   "source": [
    "predictor = ktrain.get_predictor(learner.model, t)"
   ]
  },
  {
   "cell_type": "code",
   "execution_count": 22,
   "id": "focal-replication",
   "metadata": {},
   "outputs": [],
   "source": [
    "predictor.save('predictor_news_sources_ktrain_model')"
   ]
  },
  {
   "cell_type": "code",
   "execution_count": 25,
   "id": "electronic-picture",
   "metadata": {},
   "outputs": [
    {
     "data": {
      "text/plain": [
       "['center', 'left', 'right']"
      ]
     },
     "execution_count": 25,
     "metadata": {},
     "output_type": "execute_result"
    }
   ],
   "source": [
    "predictor."
   ]
  },
  {
   "cell_type": "code",
   "execution_count": 26,
   "id": "naked-colleague",
   "metadata": {},
   "outputs": [
    {
     "name": "stdout",
     "output_type": "stream",
     "text": [
      "              precision    recall  f1-score   support\n",
      "\n",
      "        left       0.96      0.93      0.95      8690\n",
      "      center       0.93      0.95      0.94     13332\n",
      "       right       0.91      0.91      0.91      7715\n",
      "\n",
      "    accuracy                           0.93     29737\n",
      "   macro avg       0.93      0.93      0.93     29737\n",
      "weighted avg       0.93      0.93      0.93     29737\n",
      "\n"
     ]
    },
    {
     "data": {
      "text/plain": [
       "array([[ 8111,   408,   171],\n",
       "       [  204, 12618,   510],\n",
       "       [   97,   581,  7037]])"
      ]
     },
     "execution_count": 26,
     "metadata": {},
     "output_type": "execute_result"
    }
   ],
   "source": [
    "learner.validate(class_names=['left', 'center', 'right'])"
   ]
  },
  {
   "cell_type": "code",
   "execution_count": 28,
   "id": "closed-german",
   "metadata": {},
   "outputs": [],
   "source": [
    "doc = text_label['text'].iloc[0]"
   ]
  },
  {
   "cell_type": "code",
   "execution_count": 29,
   "id": "liquid-quilt",
   "metadata": {},
   "outputs": [
    {
     "data": {
      "text/plain": [
       "'left'"
      ]
     },
     "execution_count": 29,
     "metadata": {},
     "output_type": "execute_result"
    }
   ],
   "source": [
    "predictor.predict(doc)"
   ]
  }
 ],
 "metadata": {
  "environment": {
   "name": "pytorch-gpu.1-7.m65",
   "type": "gcloud",
   "uri": "gcr.io/deeplearning-platform-release/pytorch-gpu.1-7:m65"
  },
  "kernelspec": {
   "display_name": "ktrain_kernel",
   "language": "python",
   "name": "ktrain_kernel"
  },
  "language_info": {
   "codemirror_mode": {
    "name": "ipython",
    "version": 3
   },
   "file_extension": ".py",
   "mimetype": "text/x-python",
   "name": "python",
   "nbconvert_exporter": "python",
   "pygments_lexer": "ipython3",
   "version": "3.9.2"
  }
 },
 "nbformat": 4,
 "nbformat_minor": 5
}
