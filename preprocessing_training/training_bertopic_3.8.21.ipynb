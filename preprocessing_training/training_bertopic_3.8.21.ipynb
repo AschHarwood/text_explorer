{
 "cells": [
  {
   "cell_type": "code",
   "execution_count": 1,
   "metadata": {},
   "outputs": [
    {
     "name": "stdout",
     "output_type": "stream",
     "text": [
      "\u001b[31mERROR: sentence-transformers 0.4.1.2 has requirement torch>=1.6.0, but you'll have torch 1.5.0 which is incompatible.\u001b[0m\n",
      "\u001b[31mERROR: hdbscan 0.8.27 has requirement joblib>=1.0, but you'll have joblib 0.14.1 which is incompatible.\u001b[0m\n",
      "\u001b[33mWARNING: You are using pip version 20.1; however, version 21.0.1 is available.\n",
      "You should consider upgrading via the '/usr/local/bin/python -m pip install --upgrade pip' command.\u001b[0m\n"
     ]
    }
   ],
   "source": [
    "!pip install bertopic[visualization] --quiet"
   ]
  },
  {
   "cell_type": "code",
   "execution_count": 2,
   "metadata": {},
   "outputs": [],
   "source": [
    "import pandas as pd\n",
    "from bertopic import BERTopic"
   ]
  },
  {
   "cell_type": "code",
   "execution_count": 3,
   "metadata": {},
   "outputs": [],
   "source": [
    "df = pd.read_csv('domain_stop_removed_bias_text.csv')"
   ]
  },
  {
   "cell_type": "code",
   "execution_count": 4,
   "metadata": {},
   "outputs": [
    {
     "data": {
      "text/html": [
       "<div>\n",
       "<style scoped>\n",
       "    .dataframe tbody tr th:only-of-type {\n",
       "        vertical-align: middle;\n",
       "    }\n",
       "\n",
       "    .dataframe tbody tr th {\n",
       "        vertical-align: top;\n",
       "    }\n",
       "\n",
       "    .dataframe thead th {\n",
       "        text-align: right;\n",
       "    }\n",
       "</style>\n",
       "<table border=\"1\" class=\"dataframe\">\n",
       "  <thead>\n",
       "    <tr style=\"text-align: right;\">\n",
       "      <th></th>\n",
       "      <th>Unnamed: 0</th>\n",
       "      <th>GKGRECORDID</th>\n",
       "      <th>DATE</th>\n",
       "      <th>DocumentIdentifier</th>\n",
       "      <th>V2Tone</th>\n",
       "      <th>title</th>\n",
       "      <th>authors</th>\n",
       "      <th>publish_date</th>\n",
       "      <th>text</th>\n",
       "      <th>text_length</th>\n",
       "      <th>...</th>\n",
       "      <th>text_list</th>\n",
       "      <th>word_count</th>\n",
       "      <th>authority/subversion</th>\n",
       "      <th>care/harm</th>\n",
       "      <th>fairness/cheating</th>\n",
       "      <th>loyalty/betrayal</th>\n",
       "      <th>sanctity/degradation</th>\n",
       "      <th>text_stop_removed</th>\n",
       "      <th>audience_bias</th>\n",
       "      <th>audience_combined_bias</th>\n",
       "    </tr>\n",
       "  </thead>\n",
       "  <tbody>\n",
       "    <tr>\n",
       "      <th>0</th>\n",
       "      <td>0</td>\n",
       "      <td>20190227000000-1555</td>\n",
       "      <td>2019-02-27 00:00:00</td>\n",
       "      <td>https://www.cbsnews.com/news/thousands-of-migr...</td>\n",
       "      <td>-7.41687979539642,1.79028132992327,9.207161125...</td>\n",
       "      <td>Thousands of migrant children were sexually ab...</td>\n",
       "      <td>['Camilo Montoya-Galvez', 'Camilo Montoya-Galv...</td>\n",
       "      <td>NaN</td>\n",
       "      <td>This story has been updated with the most rece...</td>\n",
       "      <td>6293</td>\n",
       "      <td>...</td>\n",
       "      <td>['stori', 'updat', 'recent', 'statement', 'dep...</td>\n",
       "      <td>514</td>\n",
       "      <td>0.023346</td>\n",
       "      <td>0.064202</td>\n",
       "      <td>0.021401</td>\n",
       "      <td>0.013619</td>\n",
       "      <td>0.007782</td>\n",
       "      <td>story update department health human service h...</td>\n",
       "      <td>left_center</td>\n",
       "      <td>left</td>\n",
       "    </tr>\n",
       "    <tr>\n",
       "      <th>1</th>\n",
       "      <td>1</td>\n",
       "      <td>20190227000000-318</td>\n",
       "      <td>2019-02-27 00:00:00</td>\n",
       "      <td>https://www.huffpost.com/entry/california-salm...</td>\n",
       "      <td>-0.0779220779220777,2.7012987012987,2.77922077...</td>\n",
       "      <td>This Project Aimed To Be A Model For Saving Fa...</td>\n",
       "      <td>['Margiana Petersen-Rockney']</td>\n",
       "      <td>2019-02-26 15:22:35-05:00</td>\n",
       "      <td>This story was produced and originally publish...</td>\n",
       "      <td>22327</td>\n",
       "      <td>...</td>\n",
       "      <td>['stori', 'produc', 'origin', 'publish', 'gris...</td>\n",
       "      <td>1848</td>\n",
       "      <td>0.011364</td>\n",
       "      <td>0.016775</td>\n",
       "      <td>0.009740</td>\n",
       "      <td>0.027056</td>\n",
       "      <td>0.003788</td>\n",
       "      <td>story produce originally publish grist reprodu...</td>\n",
       "      <td>left</td>\n",
       "      <td>left</td>\n",
       "    </tr>\n",
       "    <tr>\n",
       "      <th>2</th>\n",
       "      <td>2</td>\n",
       "      <td>20190227000000-315</td>\n",
       "      <td>2019-02-27 00:00:00</td>\n",
       "      <td>https://www.huffpost.com/entry/us-military-int...</td>\n",
       "      <td>-3.91414141414141,3.15656565656566,7.070707070...</td>\n",
       "      <td>The U.S. Is Moving Closer To Military Interven...</td>\n",
       "      <td>['On Assignment For Huffpost']</td>\n",
       "      <td>2019-02-26 17:07:51-05:00</td>\n",
       "      <td>CÚCUTA, Colombia — The U.S. moved closer to mi...</td>\n",
       "      <td>9160</td>\n",
       "      <td>...</td>\n",
       "      <td>['cúcuta', 'colombia', 'u.s.', 'move', 'close'...</td>\n",
       "      <td>771</td>\n",
       "      <td>0.036316</td>\n",
       "      <td>0.041505</td>\n",
       "      <td>0.005188</td>\n",
       "      <td>0.024643</td>\n",
       "      <td>0.001297</td>\n",
       "      <td>cúcuta colombia close military intervention ve...</td>\n",
       "      <td>left</td>\n",
       "      <td>left</td>\n",
       "    </tr>\n",
       "    <tr>\n",
       "      <th>3</th>\n",
       "      <td>3</td>\n",
       "      <td>20190227000000-181</td>\n",
       "      <td>2019-02-27 00:00:00</td>\n",
       "      <td>http://www.latimes.com/socal/burbank-leader/ne...</td>\n",
       "      <td>6.957928802589,7.92880258899676,0.970873786407...</td>\n",
       "      <td>No plateau in sight for Burroughs High senior ...</td>\n",
       "      <td>['Staff Writer', 'Andrew J. Campa Covers The E...</td>\n",
       "      <td>2019-02-26 00:00:00</td>\n",
       "      <td>It’s not the glistening tiara nor the royal pu...</td>\n",
       "      <td>3517</td>\n",
       "      <td>...</td>\n",
       "      <td>['glisten', 'tiara', 'royal', 'purpl', 'line',...</td>\n",
       "      <td>265</td>\n",
       "      <td>0.018868</td>\n",
       "      <td>0.000000</td>\n",
       "      <td>0.015094</td>\n",
       "      <td>0.018868</td>\n",
       "      <td>0.018868</td>\n",
       "      <td>glisten tiara royal purple line sash burroughs...</td>\n",
       "      <td>left_center</td>\n",
       "      <td>left</td>\n",
       "    </tr>\n",
       "    <tr>\n",
       "      <th>4</th>\n",
       "      <td>4</td>\n",
       "      <td>20190227000000-2604</td>\n",
       "      <td>2019-02-27 00:00:00</td>\n",
       "      <td>https://uk.reuters.com/article/us-usa-congress...</td>\n",
       "      <td>0.770416024653313,3.54391371340524,2.773497688...</td>\n",
       "      <td>U.S. House Democrats introduce sweeping 'Medic...</td>\n",
       "      <td>['Yasmeen Abutaleb']</td>\n",
       "      <td>2019-02-26 22:18:42+00:00</td>\n",
       "      <td>WASHINGTON (Reuters) - Democrats in the U.S. H...</td>\n",
       "      <td>3760</td>\n",
       "      <td>...</td>\n",
       "      <td>['washington', 'reuter', 'democrat', 'u.s.', '...</td>\n",
       "      <td>314</td>\n",
       "      <td>0.028662</td>\n",
       "      <td>0.003185</td>\n",
       "      <td>0.000000</td>\n",
       "      <td>0.009554</td>\n",
       "      <td>0.111465</td>\n",
       "      <td>washington reuters democrat house representati...</td>\n",
       "      <td>center</td>\n",
       "      <td>center</td>\n",
       "    </tr>\n",
       "  </tbody>\n",
       "</table>\n",
       "<p>5 rows × 23 columns</p>\n",
       "</div>"
      ],
      "text/plain": [
       "   Unnamed: 0          GKGRECORDID                 DATE  \\\n",
       "0           0  20190227000000-1555  2019-02-27 00:00:00   \n",
       "1           1   20190227000000-318  2019-02-27 00:00:00   \n",
       "2           2   20190227000000-315  2019-02-27 00:00:00   \n",
       "3           3   20190227000000-181  2019-02-27 00:00:00   \n",
       "4           4  20190227000000-2604  2019-02-27 00:00:00   \n",
       "\n",
       "                                  DocumentIdentifier  \\\n",
       "0  https://www.cbsnews.com/news/thousands-of-migr...   \n",
       "1  https://www.huffpost.com/entry/california-salm...   \n",
       "2  https://www.huffpost.com/entry/us-military-int...   \n",
       "3  http://www.latimes.com/socal/burbank-leader/ne...   \n",
       "4  https://uk.reuters.com/article/us-usa-congress...   \n",
       "\n",
       "                                              V2Tone  \\\n",
       "0  -7.41687979539642,1.79028132992327,9.207161125...   \n",
       "1  -0.0779220779220777,2.7012987012987,2.77922077...   \n",
       "2  -3.91414141414141,3.15656565656566,7.070707070...   \n",
       "3  6.957928802589,7.92880258899676,0.970873786407...   \n",
       "4  0.770416024653313,3.54391371340524,2.773497688...   \n",
       "\n",
       "                                               title  \\\n",
       "0  Thousands of migrant children were sexually ab...   \n",
       "1  This Project Aimed To Be A Model For Saving Fa...   \n",
       "2  The U.S. Is Moving Closer To Military Interven...   \n",
       "3  No plateau in sight for Burroughs High senior ...   \n",
       "4  U.S. House Democrats introduce sweeping 'Medic...   \n",
       "\n",
       "                                             authors  \\\n",
       "0  ['Camilo Montoya-Galvez', 'Camilo Montoya-Galv...   \n",
       "1                      ['Margiana Petersen-Rockney']   \n",
       "2                     ['On Assignment For Huffpost']   \n",
       "3  ['Staff Writer', 'Andrew J. Campa Covers The E...   \n",
       "4                               ['Yasmeen Abutaleb']   \n",
       "\n",
       "                publish_date  \\\n",
       "0                        NaN   \n",
       "1  2019-02-26 15:22:35-05:00   \n",
       "2  2019-02-26 17:07:51-05:00   \n",
       "3        2019-02-26 00:00:00   \n",
       "4  2019-02-26 22:18:42+00:00   \n",
       "\n",
       "                                                text  text_length  ...  \\\n",
       "0  This story has been updated with the most rece...         6293  ...   \n",
       "1  This story was produced and originally publish...        22327  ...   \n",
       "2  CÚCUTA, Colombia — The U.S. moved closer to mi...         9160  ...   \n",
       "3  It’s not the glistening tiara nor the royal pu...         3517  ...   \n",
       "4  WASHINGTON (Reuters) - Democrats in the U.S. H...         3760  ...   \n",
       "\n",
       "                                           text_list word_count  \\\n",
       "0  ['stori', 'updat', 'recent', 'statement', 'dep...        514   \n",
       "1  ['stori', 'produc', 'origin', 'publish', 'gris...       1848   \n",
       "2  ['cúcuta', 'colombia', 'u.s.', 'move', 'close'...        771   \n",
       "3  ['glisten', 'tiara', 'royal', 'purpl', 'line',...        265   \n",
       "4  ['washington', 'reuter', 'democrat', 'u.s.', '...        314   \n",
       "\n",
       "  authority/subversion care/harm  fairness/cheating  loyalty/betrayal  \\\n",
       "0             0.023346  0.064202           0.021401          0.013619   \n",
       "1             0.011364  0.016775           0.009740          0.027056   \n",
       "2             0.036316  0.041505           0.005188          0.024643   \n",
       "3             0.018868  0.000000           0.015094          0.018868   \n",
       "4             0.028662  0.003185           0.000000          0.009554   \n",
       "\n",
       "   sanctity/degradation                                  text_stop_removed  \\\n",
       "0              0.007782  story update department health human service h...   \n",
       "1              0.003788  story produce originally publish grist reprodu...   \n",
       "2              0.001297  cúcuta colombia close military intervention ve...   \n",
       "3              0.018868  glisten tiara royal purple line sash burroughs...   \n",
       "4              0.111465  washington reuters democrat house representati...   \n",
       "\n",
       "   audience_bias  audience_combined_bias  \n",
       "0    left_center                    left  \n",
       "1           left                    left  \n",
       "2           left                    left  \n",
       "3    left_center                    left  \n",
       "4         center                  center  \n",
       "\n",
       "[5 rows x 23 columns]"
      ]
     },
     "execution_count": 4,
     "metadata": {},
     "output_type": "execute_result"
    }
   ],
   "source": [
    "df.head()"
   ]
  },
  {
   "cell_type": "code",
   "execution_count": 5,
   "metadata": {},
   "outputs": [
    {
     "data": {
      "text/plain": [
       "reuters           23797\n",
       "foxnews           21933\n",
       "nytimes           17927\n",
       "usatoday          14400\n",
       "cnn               13880\n",
       "latimes           12872\n",
       "breitbart         12464\n",
       "nbcnews            9298\n",
       "cbsnews            7096\n",
       "npr                5251\n",
       "nationalreview     4179\n",
       "vox                3463\n",
       "msnbc              1153\n",
       "huffpost            970\n",
       "Name: domain, dtype: int64"
      ]
     },
     "execution_count": 5,
     "metadata": {},
     "output_type": "execute_result"
    }
   ],
   "source": [
    "df['domain'].value_counts()"
   ]
  },
  {
   "cell_type": "code",
   "execution_count": 8,
   "metadata": {},
   "outputs": [
    {
     "data": {
      "text/plain": [
       "left      66659\n",
       "center    43448\n",
       "right     38576\n",
       "Name: audience_combined_bias, dtype: int64"
      ]
     },
     "execution_count": 8,
     "metadata": {},
     "output_type": "execute_result"
    }
   ],
   "source": [
    "df['audience_combined_bias'].value_counts()"
   ]
  },
  {
   "cell_type": "code",
   "execution_count": 9,
   "metadata": {},
   "outputs": [],
   "source": [
    "text = list(df[df['audience_combined_bias']=='left']['text_stop_removed'])"
   ]
  },
  {
   "cell_type": "code",
   "execution_count": 10,
   "metadata": {},
   "outputs": [
    {
     "name": "stderr",
     "output_type": "stream",
     "text": [
      "100%|██████████| 245M/245M [00:46<00:00, 5.27MB/s] \n"
     ]
    },
    {
     "data": {
      "application/vnd.jupyter.widget-view+json": {
       "model_id": "9a5c608ac0dd4362a7efc24c05d29fda",
       "version_major": 2,
       "version_minor": 0
      },
      "text/plain": [
       "HBox(children=(FloatProgress(value=0.0, description='Batches', max=2084.0, style=ProgressStyle(description_wid…"
      ]
     },
     "metadata": {},
     "output_type": "display_data"
    },
    {
     "name": "stdout",
     "output_type": "stream",
     "text": [
      "\n"
     ]
    },
    {
     "name": "stderr",
     "output_type": "stream",
     "text": [
      "2021-03-09 02:13:44,585 - BERTopic - Transformed documents to Embeddings\n",
      "2021-03-09 02:15:17,440 - BERTopic - Reduced dimensionality with UMAP\n",
      "2021-03-09 02:15:23,422 - BERTopic - Clustered UMAP embeddings with HDBSCAN\n",
      "2021-03-09 02:29:17,083 - BERTopic - Reduced number of topics from 669 to 669\n"
     ]
    }
   ],
   "source": [
    "topic_model = BERTopic(verbose=True, n_gram_range=(2,2), nr_topics='auto', low_memory=True)\n",
    "topics, _ = topic_model.fit_transform(text)\n",
    "topic_model.save('left_gdelt')"
   ]
  },
  {
   "cell_type": "code",
   "execution_count": 11,
   "metadata": {},
   "outputs": [
    {
     "data": {
      "application/vnd.jupyter.widget-view+json": {
       "model_id": "8d893faac102451e95c8c5706e4e93d0",
       "version_major": 2,
       "version_minor": 0
      },
      "text/plain": [
       "HBox(children=(FloatProgress(value=0.0, description='Batches', max=1358.0, style=ProgressStyle(description_wid…"
      ]
     },
     "metadata": {},
     "output_type": "display_data"
    },
    {
     "name": "stdout",
     "output_type": "stream",
     "text": [
      "\n"
     ]
    },
    {
     "name": "stderr",
     "output_type": "stream",
     "text": [
      "2021-03-09 02:40:16,809 - BERTopic - Transformed documents to Embeddings\n",
      "2021-03-09 02:40:58,864 - BERTopic - Reduced dimensionality with UMAP\n",
      "2021-03-09 02:41:02,800 - BERTopic - Clustered UMAP embeddings with HDBSCAN\n",
      "2021-03-09 02:49:11,764 - BERTopic - Reduced number of topics from 595 to 595\n"
     ]
    }
   ],
   "source": [
    "text = list(df[df['audience_combined_bias']=='center']['text_stop_removed'])\n",
    "topic_model = BERTopic(verbose=True, n_gram_range=(2,2), nr_topics='auto', low_memory=True)\n",
    "topics, _ = topic_model.fit_transform(text)\n",
    "topic_model.save('center_gdelt')"
   ]
  },
  {
   "cell_type": "code",
   "execution_count": 12,
   "metadata": {},
   "outputs": [
    {
     "data": {
      "application/vnd.jupyter.widget-view+json": {
       "model_id": "7f1bcb7ea8494beeb0882675079d511e",
       "version_major": 2,
       "version_minor": 0
      },
      "text/plain": [
       "HBox(children=(FloatProgress(value=0.0, description='Batches', max=1206.0, style=ProgressStyle(description_wid…"
      ]
     },
     "metadata": {},
     "output_type": "display_data"
    },
    {
     "name": "stderr",
     "output_type": "stream",
     "text": [
      "2021-03-09 02:57:16,095 - BERTopic - Transformed documents to Embeddings\n"
     ]
    },
    {
     "name": "stdout",
     "output_type": "stream",
     "text": [
      "\n"
     ]
    },
    {
     "name": "stderr",
     "output_type": "stream",
     "text": [
      "2021-03-09 02:57:51,676 - BERTopic - Reduced dimensionality with UMAP\n",
      "2021-03-09 02:57:55,419 - BERTopic - Clustered UMAP embeddings with HDBSCAN\n",
      "2021-03-09 03:03:12,575 - BERTopic - Reduced number of topics from 370 to 370\n"
     ]
    }
   ],
   "source": [
    "text = list(df[df['audience_combined_bias']=='right']['text_stop_removed'])\n",
    "topic_model = BERTopic(verbose=True, n_gram_range=(2,2), nr_topics='auto', low_memory=True)\n",
    "topics, _ = topic_model.fit_transform(text)\n",
    "topic_model.save('center')"
   ]
  },
  {
   "cell_type": "code",
   "execution_count": null,
   "metadata": {},
   "outputs": [],
   "source": []
  }
 ],
 "metadata": {
  "environment": {
   "name": "pytorch-gpu.1-7.m65",
   "type": "gcloud",
   "uri": "gcr.io/deeplearning-platform-release/pytorch-gpu.1-7:m65"
  },
  "kernelspec": {
   "display_name": "Python 3",
   "language": "python",
   "name": "python3"
  },
  "language_info": {
   "codemirror_mode": {
    "name": "ipython",
    "version": 3
   },
   "file_extension": ".py",
   "mimetype": "text/x-python",
   "name": "python",
   "nbconvert_exporter": "python",
   "pygments_lexer": "ipython3",
   "version": "3.7.10"
  }
 },
 "nbformat": 4,
 "nbformat_minor": 4
}
